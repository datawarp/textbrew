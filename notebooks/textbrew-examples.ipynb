{
 "cells": [
  {
   "cell_type": "code",
   "execution_count": null,
   "metadata": {
    "collapsed": false
   },
   "outputs": [],
   "source": [
    "from textbrew.format import Format\n",
    "from textbrew.regex import RegexStudio"
   ]
  },
  {
   "cell_type": "code",
   "execution_count": null,
   "metadata": {
    "collapsed": true
   },
   "outputs": [],
   "source": [
    "# Example text\n",
    "text = \"@microsoft #technology https://spacy.io/docs/api/span#merge Bill Gates is the richest man on Wall Street 09, who also does most charity (or so he claims)!\""
   ]
  },
  {
   "cell_type": "code",
   "execution_count": 17,
   "metadata": {
    "collapsed": false
   },
   "outputs": [
    {
     "data": {
      "text/plain": [
       "'Bill Gates is the richest man on Wall Street 09 who also does most charity or so he claims'"
      ]
     },
     "execution_count": 17,
     "metadata": {},
     "output_type": "execute_result"
    }
   ],
   "source": [
    "# Let's remove urls and usernames and hashtags, parenthesis from text\n",
    "rs = RegexStudio()\n",
    "cleaned_text = rs.cleaner(text, username=False, hashtag=False, url=False)\n",
    "cleaned_text"
   ]
  },
  {
   "cell_type": "code",
   "execution_count": 18,
   "metadata": {
    "collapsed": false
   },
   "outputs": [
    {
     "data": {
      "text/plain": [
       "'bill_gates is the|richest|man on wall_street 09 who also does most|charity or so he claims '"
      ]
     },
     "execution_count": 18,
     "metadata": {},
     "output_type": "execute_result"
    }
   ],
   "source": [
    "# Create compund nouns out out of text(probable applications - Training Compound Word Vectors)\n",
    "formatter = Format()\n",
    "formatter.compound_nouns(cleaned_text)"
   ]
  }
 ],
 "metadata": {
  "kernelspec": {
   "display_name": "Python 3",
   "language": "python",
   "name": "python3"
  },
  "language_info": {
   "codemirror_mode": {
    "name": "ipython",
    "version": 3.0
   },
   "file_extension": ".py",
   "mimetype": "text/x-python",
   "name": "python",
   "nbconvert_exporter": "python",
   "pygments_lexer": "ipython3",
   "version": "3.5.2"
  }
 },
 "nbformat": 4,
 "nbformat_minor": 0
}